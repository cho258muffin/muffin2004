{
 "cells": [
  {
   "cell_type": "markdown",
   "id": "34018980-a805-4f4e-82be-5e326b11b90e",
   "metadata": {},
   "source": [
    "# Assignment 3 and 4\n",
    "\n",
    "The  focus of the following exercises is to create geometric objects and functions, from a simple text files that contain coordinate locations - in this case, latitude and longtitude values.  \n",
    "Python is an excellent tool for this kind of a task: it can read data from (almost) any input format (CSV, text, Excel, GPX, various databases).\n",
    "\n",
    "The reading of the data files is commonly done  using [pandas](https://pandas.pydata.org/), while the geometric analysis through the [shapely](https://shapely.readthedocs.io/), library.\n",
    "\n",
    "## Sample data set\n",
    "\n",
    "For this exercise, we read simulated data from a file that lists travel times between different locations.\n",
    "The data is stored in a semicolon-separated text file [`travel_times.txt`](data/travel_times.txt).\n",
    "\n",
    "The first four rows of our data look like this:\n",
    "\n",
    "```\n",
    "from_id;to_id;fromid_toid;route_number;at;from_x;from_y;to_x;to_y;total_route_time;route_time;route_distance;route_total_lines\n",
    "5807270;5814548;5807270_5814548;1;08:10;18.0715972;59.3091487;18.0900702;59.3274161;62.8095746;63.8796211;9120.9728828;3\n",
    "5800860;5813108;5800860_5813108;1;08:10;18.0658924;59.3877461;18.0421721;59.3079419;83.8267506;85.1239344;10918.6411340;2\n",
    "5805390;5817158;5805390_5817158;4;08:10;18.0027096;59.3265600;18.0276828;59.3085658;142.8083640;138.4989656;11327.4226781;2\n",
    "5805191;5817400;5805191_5817400;2;08:10;18.0221972;59.3129515;18.0592350;59.3894191;72.4615612;117.2012476;11165.3161290;1\n",
    "```\n",
    "\n",
    "In this exercise, we are interested in the following columns:\n",
    "\n",
    "| Column name        | Description                                              |\n",
    "|:------------------ |:-------------------------------------------------------- |\n",
    "| `from_x`           | x-coordinate of the **origin** location (longitude)      |\n",
    "| `from_y`           | y-coordinate of the **origin** location (latitude)       |\n",
    "| `to_x`             | x-coordinate of the **destination** location (longitude) |\n",
    "| `to_y`             | y-coordinate of the **destination** location (latitude)  |\n",
    "| `total_route_time` | Travel time with public transportation at the route      |\n",
    "\n",
    "\n",
    "NOTE: At the parts where your code can be checked (i.e., # CODE CELL FOR TESTING YOUR SOLUTION) you might need to adjust the variable names if you have used different. In general, you can adapt any part of the code and customize it as you wish, as long as you fulfil the primary objectives.\n"
   ]
  },
  {
   "cell_type": "markdown",
   "id": "395629d2-2e7b-4ad1-a9cd-6e21580680ce",
   "metadata": {},
   "source": [
    "\n",
    "----\n",
    "\n",
    "## Assignment 3: Reading coordinates from a text file, and creating geometries\n",
    "\n",
    "In this problem, your task is to read data from the file described above, and create two lists of points representing \n",
    "the origins and destinations of the routes described in the data set.\n",
    "\n",
    "This task entails multiple steps:\n",
    "\n",
    "1. Read the data into a `pandas.DataFrame`\n",
    "2. Discard all unnecessary columns (this is good practice, as it helps reduce the memory footprint of a program)\n",
    "3. Create two lists of `shapely.geometry.Point`s\n",
    "\n",
    "Let’s go step-by-step. \n"
   ]
  },
  {
   "cell_type": "markdown",
   "id": "f34a29aa-5090-4319-b4e8-b575e9a2927c",
   "metadata": {},
   "source": [
    "\n",
    "----\n",
    "\n",
    "#### (1)\n",
    "\n",
    "First, use `pandas` to read the file into a variable `data`. Consult the [pandas documentation](https://pandas.pydata.org/docs/user_guide/) to find the best way to do this."
   ]
  },
  {
   "cell_type": "code",
   "execution_count": 2,
   "id": "f8578b22-d57a-47fb-89f1-9927f8dec794",
   "metadata": {},
   "outputs": [
    {
     "name": "stdout",
     "output_type": "stream",
     "text": [
      "        from_x     from_y       to_x       to_y  total_route_time\n",
      "0    18.071597  59.309149  18.090070  59.327416         62.809575\n",
      "1    18.065892  59.387746  18.042172  59.307942         83.826751\n",
      "2    18.002710  59.326560  18.027683  59.308566        142.808364\n",
      "3    18.022197  59.312951  18.059235  59.389419         72.461561\n",
      "4    18.023107  59.388875  18.091236  59.319187         87.216702\n",
      "..         ...        ...        ...        ...               ...\n",
      "235  18.022444  59.357867  18.099126  59.360188        101.938586\n",
      "236  18.022382  59.343862  18.012839  59.358242         70.488127\n",
      "237  18.053697  59.372526  18.010411  59.374807        137.783008\n",
      "238  18.059294  59.348667  18.072434  59.381177        137.958186\n",
      "239  18.058009  59.387342  18.057839  59.365648        137.057842\n",
      "\n",
      "[240 rows x 5 columns]\n"
     ]
    }
   ],
   "source": [
    "# Import \n",
    "import pandas as pd\n",
    "import numpy as np\n",
    "import shapely as shp\n",
    "from shapely.geometry import Point, LineString, Polygon, MultiPoint, MultiLineString, MultiPolygon\n",
    "\n",
    "# Read File\n",
    "colx=[\"from_id\",\n",
    "      \"to_id\",\n",
    "      \"fromid_toid\",\n",
    "      \"route_number\",\n",
    "      \"at\",\n",
    "      \"from_x\",\n",
    "      \"from_y\",\n",
    "      \"to_x\",\n",
    "      \"to_y\",\n",
    "      \"total_route_time\",\n",
    "      \"route_time\",\n",
    "      \"route_distance\",\n",
    "      \"route_total_lines\"]\n",
    "\n",
    "uc = [5, 6, 7, 8, 9]\n",
    "\n",
    "data = pd.read_csv(\"simulated_travel_times_stockholm.txt\", names=colx, usecols = uc, sep = \";\", skiprows = 1)\n",
    "print(data)"
   ]
  },
  {
   "cell_type": "markdown",
   "id": "fd21dad5-ff6c-4de2-8ea5-ff0f0b36e1c2",
   "metadata": {},
   "source": [
    "As a little sanity check, print the number of rows and columns of the data set:"
   ]
  },
  {
   "cell_type": "code",
   "execution_count": 4,
   "id": "90db54e1-0b24-4b23-acb6-0f1b53e278af",
   "metadata": {},
   "outputs": [
    {
     "name": "stdout",
     "output_type": "stream",
     "text": [
      "(240, 5)\n"
     ]
    }
   ],
   "source": [
    "# RUN YOUR OWN CODE HERE\n",
    "print(data.shape)"
   ]
  },
  {
   "cell_type": "markdown",
   "id": "42f58129-16da-42e3-bbae-3dfea5065550",
   "metadata": {},
   "source": [
    "If you loaded the data set successfully, the following code cell will print the first few rows of the data:"
   ]
  },
  {
   "cell_type": "code",
   "execution_count": 5,
   "id": "83bd730d-b0cb-4158-b342-df35cd2902bd",
   "metadata": {},
   "outputs": [
    {
     "data": {
      "text/html": [
       "<div>\n",
       "<style scoped>\n",
       "    .dataframe tbody tr th:only-of-type {\n",
       "        vertical-align: middle;\n",
       "    }\n",
       "\n",
       "    .dataframe tbody tr th {\n",
       "        vertical-align: top;\n",
       "    }\n",
       "\n",
       "    .dataframe thead th {\n",
       "        text-align: right;\n",
       "    }\n",
       "</style>\n",
       "<table border=\"1\" class=\"dataframe\">\n",
       "  <thead>\n",
       "    <tr style=\"text-align: right;\">\n",
       "      <th></th>\n",
       "      <th>from_x</th>\n",
       "      <th>from_y</th>\n",
       "      <th>to_x</th>\n",
       "      <th>to_y</th>\n",
       "      <th>total_route_time</th>\n",
       "    </tr>\n",
       "  </thead>\n",
       "  <tbody>\n",
       "    <tr>\n",
       "      <th>235</th>\n",
       "      <td>18.022444</td>\n",
       "      <td>59.357867</td>\n",
       "      <td>18.099126</td>\n",
       "      <td>59.360188</td>\n",
       "      <td>101.938586</td>\n",
       "    </tr>\n",
       "    <tr>\n",
       "      <th>236</th>\n",
       "      <td>18.022382</td>\n",
       "      <td>59.343862</td>\n",
       "      <td>18.012839</td>\n",
       "      <td>59.358242</td>\n",
       "      <td>70.488127</td>\n",
       "    </tr>\n",
       "    <tr>\n",
       "      <th>237</th>\n",
       "      <td>18.053697</td>\n",
       "      <td>59.372526</td>\n",
       "      <td>18.010411</td>\n",
       "      <td>59.374807</td>\n",
       "      <td>137.783008</td>\n",
       "    </tr>\n",
       "    <tr>\n",
       "      <th>238</th>\n",
       "      <td>18.059294</td>\n",
       "      <td>59.348667</td>\n",
       "      <td>18.072434</td>\n",
       "      <td>59.381177</td>\n",
       "      <td>137.958186</td>\n",
       "    </tr>\n",
       "    <tr>\n",
       "      <th>239</th>\n",
       "      <td>18.058009</td>\n",
       "      <td>59.387342</td>\n",
       "      <td>18.057839</td>\n",
       "      <td>59.365648</td>\n",
       "      <td>137.057842</td>\n",
       "    </tr>\n",
       "  </tbody>\n",
       "</table>\n",
       "</div>"
      ],
      "text/plain": [
       "        from_x     from_y       to_x       to_y  total_route_time\n",
       "235  18.022444  59.357867  18.099126  59.360188        101.938586\n",
       "236  18.022382  59.343862  18.012839  59.358242         70.488127\n",
       "237  18.053697  59.372526  18.010411  59.374807        137.783008\n",
       "238  18.059294  59.348667  18.072434  59.381177        137.958186\n",
       "239  18.058009  59.387342  18.057839  59.365648        137.057842"
      ]
     },
     "execution_count": 5,
     "metadata": {},
     "output_type": "execute_result"
    }
   ],
   "source": [
    "# CODE CELL FOR TESTING YOUR SOLUTION\n",
    "data.tail()"
   ]
  },
  {
   "cell_type": "markdown",
   "id": "37f51f18-ece5-4bd7-9a3e-2cab25972362",
   "metadata": {},
   "source": [
    "\n",
    "----\n",
    "#### (2)\n",
    "\n",
    "Now, select the 4 columns that contain coordinate information (**`from_x`**, **`from_y`**, **`to_x`**, **`to_y`**), and store them in a DataFrame **`data`**. \n",
    "(i.e. update the variable `data`  to contain only these four columns)."
   ]
  },
  {
   "cell_type": "code",
   "execution_count": 3,
   "id": "238c5f84-74a1-4c0e-9e03-6ec0699dcede",
   "metadata": {},
   "outputs": [],
   "source": [
    "# Select specific columns and update data frame\n",
    "data = data[[\"from_x\", \"from_y\", \"to_x\", \"to_y\"]]"
   ]
  },
  {
   "cell_type": "markdown",
   "id": "23941efa-e24a-4010-a28c-de4db2ea8a32",
   "metadata": {},
   "source": [
    "Run the following code cell to test whether you have successfully replaced `data` with only the required data columns: it prints an error if you haven’t."
   ]
  },
  {
   "cell_type": "code",
   "execution_count": 4,
   "id": "5c912a96-a2fa-4cc8-9538-c0e773640f94",
   "metadata": {},
   "outputs": [],
   "source": [
    "#  CODE CELL FOR TESTING YOUR SOLUTION\n",
    "assert list(data.columns) == [\"from_x\", \"from_y\", \"to_x\", \"to_y\"], \"Error: `data` does not (or not only) contain the four columns it should\""
   ]
  },
  {
   "cell_type": "markdown",
   "id": "886a346f-df62-40c1-8583-b1e1be2e625d",
   "metadata": {},
   "source": [
    "\n",
    "----\n",
    "\n",
    "#### (3)\n",
    "\n",
    "Finally, create two lists called **`origin_points`** and **`destination_points`** that contain `shapely.geometry.Point` objects created using the coordinates from `data`. \n",
    "\n",
    "In particular, the origin points in `origin_points` should be based on columns `from_x` and `from_y`, and the destination points in `destination_points` on columns `to_x` and `to_y`.\n",
    "\n",
    "There are many ways to achieve this, find two possible approaches below (you can implement either one of them):\n",
    "\n",
    "##### **Approach A**\n",
    "\n",
    "- Create two empty lists for the origin and destination points, respectively\n",
    "- Use a for-loop to iterate over the rows of your dataframe:\n",
    "    - For each row, create a `shapely.geometry.Point` object based on the coordinate columns\n",
    "    - Append the point object to the `origin_points` and `destination_point` lists\n",
    "\n",
    "\n",
    "##### **Approach B (more advanced)**\n",
    "\n",
    "- Make use of the `.apply()` function of the `pandas.DataFrame` to operate on all rows at once (see its [documentation](https://pandas.pydata.org/docs/reference/api/pandas.DataFrame.apply.html), *HINT:* you might want to use the `axis` parameter)\n",
    "- Use the `shapely.geometry.Point` constructor directly, or wrap it into a [lambda function](https://towardsdatascience.com/apply-and-lambda-usage-in-pandas-b13a1ea037f7)\n",
    "- Finally, convert the output `pandas.Series` into `list`s"
   ]
  },
  {
   "cell_type": "code",
   "execution_count": 11,
   "id": "62357159-83a9-4bc8-868f-164eda80cae0",
   "metadata": {},
   "outputs": [
    {
     "data": {
      "text/plain": [
       "\"\\n\\n\\n# (METHOD B)\\n\\norigin_points = data.apply(lambda row: Point(row['from_x'], row['from_y']), axis=1).tolist()\\ndestination_points = data.apply(lambda row: Point(row['to_x'], row['to_y']), axis=1).tolist()\\n\\nprint(origin_points[:5])\\n#print(destination_points.head())\\n\""
      ]
     },
     "execution_count": 11,
     "metadata": {},
     "output_type": "execute_result"
    }
   ],
   "source": [
    "# Create Point-creating fucntion \n",
    "def create_point_geometry (A,B):\n",
    "    pt = Point(A, B)\n",
    "    return pt\n",
    "\n",
    "# Create empty lists\n",
    "origin_points = []\n",
    "destination_points = []\n",
    "\n",
    "# For Loop (METHOD A)\n",
    "# Start point for loop \n",
    "for i, row in data.iterrows():\n",
    "    start_point = create_point_geometry(row[\"from_x\"], row[\"from_y\"])\n",
    "    origin_points.append(start_point)\n",
    "    #print(start_point)\n",
    "\n",
    "# Destination point for loop \n",
    "for i, row in data.iterrows():\n",
    "    end_point = create_point_geometry(row[\"to_x\"], row[\"to_y\"])\n",
    "    destination_points.append(end_point)\n",
    "    #print(destination_point)\n",
    "\n",
    "\"\"\"\n",
    "# (METHOD B)\n",
    "\n",
    "origin_points = data.apply(lambda row: Point(row['from_x'], row['from_y']), axis=1).tolist()\n",
    "destination_points = data.apply(lambda row: Point(row['to_x'], row['to_y']), axis=1).tolist()\n",
    "\n",
    "print(origin_points[:5])\n",
    "print(destination_points[:5])\n",
    "\"\"\"\n"
   ]
  },
  {
   "cell_type": "markdown",
   "id": "1e53cd12-2050-458c-9280-9f8abdce43e5",
   "metadata": {},
   "source": [
    "\n",
    "**NOTE: After you have solved this problem, there might be some left-over variables around.<br />We recommend you *restart the kernel and run all cells* from the toolbar or JupyterLab’s menu.***\n"
   ]
  },
  {
   "cell_type": "markdown",
   "id": "ae36d639-f03a-4261-9faf-337db2d498a9",
   "metadata": {},
   "source": [
    "\n",
    "Use the following code cell to test whether your solution works:"
   ]
  },
  {
   "cell_type": "code",
   "execution_count": 12,
   "id": "3c6aaeef-3b0e-4e70-8645-24fa5a5581f6",
   "metadata": {
    "tags": []
   },
   "outputs": [
    {
     "name": "stdout",
     "output_type": "stream",
     "text": [
      "ORIGIN X Y: 18.0715972 59.3091487\n",
      "DESTINATION X Y: 18.0900702 59.3274161\n"
     ]
    }
   ],
   "source": [
    "# CODE CELL FOR TESTING YOUR SOLUTION\n",
    "\n",
    "# This test print should print out the first origin and destination coordinates in the two lists:\n",
    "print(\"ORIGIN X Y:\", origin_points[0].x, origin_points[0].y)\n",
    "print(\"DESTINATION X Y:\", destination_points[0].x, destination_points[0].y)\n",
    "\n",
    "# Check that you created a correct amount of points:\n",
    "assert len(origin_points) == len(data), \"Number of origin points must be the same as number of rows in the original file\"\n",
    "assert len(destination_points) == len(data), \"Number of destination points must be the same as number of rows in the original file\""
   ]
  },
  {
   "cell_type": "markdown",
   "id": "425a0a1c-3a2e-45cd-88ce-a5a80bf51f2c",
   "metadata": {},
   "source": [
    "\n",
    "\n",
    "### Done!\n",
    "\n",
    "That’s it. Now you are ready to continue to problem 4."
   ]
  },
  {
   "cell_type": "markdown",
   "id": "2c5d474f-596c-4d4b-ab6c-d8df2a1b3b1c",
   "metadata": {},
   "source": [
    "\n",
    "----\n",
    "\n",
    "## Assignment 4: Creating LineStrings that represent the movements:\n",
    "\n",
    "This problem continues where we left off after completing *Assignment 3*. \n",
    "\n",
    "The task is to:\n",
    "\n",
    "1. create a list lines (`shapely.geometry.LineString`) between each pair of origin and destination points, and \n",
    "2. calculate the over-all total_length of all those lines.\n",
    "\n",
    "Store the list of lines in a variable called `lines`, and the sum of lengths in a variable called `total_length`.\n",
    "\n",
    "Once you have working solutions for both tasks, \n",
    "\n",
    "3. create functions for them so you can apply them to other similar data sets in the future (see instructions below)."
   ]
  },
  {
   "cell_type": "markdown",
   "id": "29fbd78c-7405-4c2b-b47a-009651d4521b",
   "metadata": {},
   "source": [
    "#### (1)\n",
    "\n",
    "To create the `shapely.geometry.LineString`s for each pair of origins and destinations, you need to loop over both lists at the same time.\n",
    "\n",
    "Again, there are many ways to achieve this, here are two suggestions:\n",
    "\n",
    "- (alternative 1) Use the `zip()` function that allows you to iterate over multiple lists at the same time. See this week’s exercise hints!\n",
    "- (alternative 2) Use the *for-range loop*  and an index variable to access the same value in both lists\n"
   ]
  },
  {
   "cell_type": "code",
   "execution_count": 10,
   "id": "c81af422-cff0-47c5-a0ac-b0a61dfc3296",
   "metadata": {},
   "outputs": [
    {
     "name": "stdout",
     "output_type": "stream",
     "text": [
      "[<LINESTRING (18.072 59.309, 18.09 59.327)>, <LINESTRING (18.066 59.388, 18.042 59.308)>, <LINESTRING (18.003 59.327, 18.028 59.309)>, <LINESTRING (18.022 59.313, 18.059 59.389)>, <LINESTRING (18.023 59.389, 18.091 59.319)>, <LINESTRING (18.067 59.396, 18.021 59.332)>, <LINESTRING (18.002 59.386, 18.062 59.323)>, <LINESTRING (18.01 59.381, 18.063 59.335)>, <LINESTRING (18.08 59.366, 18.073 59.307)>, <LINESTRING (18.018 59.355, 18.013 59.352)>, <LINESTRING (18.065 59.309, 18.072 59.307)>, <LINESTRING (18.024 59.341, 18.091 59.38)>, <LINESTRING (18.01 59.337, 18.018 59.323)>, <LINESTRING (18.024 59.326, 18.024 59.354)>, <LINESTRING (18.072 59.372, 18.097 59.388)>, <LINESTRING (18.086 59.35, 18.018 59.365)>, <LINESTRING (18.083 59.308, 18.085 59.353)>, <LINESTRING (18.04 59.322, 18.049 59.332)>, <LINESTRING (18.067 59.368, 18.025 59.333)>, <LINESTRING (18.02 59.308, 18.087 59.367)>, <LINESTRING (18.029 59.385, 18.045 59.399)>, <LINESTRING (18.09 59.35, 18.051 59.366)>, <LINESTRING (18.001 59.348, 18.036 59.356)>, <LINESTRING (18.009 59.359, 18.059 59.373)>, <LINESTRING (18.021 59.382, 18.016 59.347)>, <LINESTRING (18.003 59.335, 18.039 59.306)>, <LINESTRING (18.018 59.368, 18.097 59.356)>, <LINESTRING (18.058 59.357, 18.026 59.396)>, <LINESTRING (18.042 59.327, 18.066 59.318)>, <LINESTRING (18.089 59.388, 18.033 59.369)>, <LINESTRING (18.082 59.38, 18.077 59.32)>, <LINESTRING (18.034 59.366, 18.013 59.354)>, <LINESTRING (18.026 59.385, 18.097 59.31)>, <LINESTRING (18.038 59.387, 18.045 59.345)>, <LINESTRING (18.059 59.371, 18.024 59.376)>, <LINESTRING (18.027 59.384, 18.007 59.335)>, <LINESTRING (18.062 59.37, 18.017 59.366)>, <LINESTRING (18.041 59.368, 18.052 59.38)>, <LINESTRING (18.055 59.362, 18.034 59.393)>, <LINESTRING (18.044 59.375, 18.083 59.323)>, <LINESTRING (18.029 59.316, 18.043 59.34)>, <LINESTRING (18.095 59.388, 18.025 59.315)>, <LINESTRING (18.076 59.387, 18.062 59.399)>, <LINESTRING (18.014 59.303, 18.071 59.393)>, <LINESTRING (18.087 59.383, 18.017 59.354)>, <LINESTRING (18.049 59.313, 18.017 59.384)>, <LINESTRING (18.089 59.334, 18.004 59.352)>, <LINESTRING (18.08 59.374, 18.074 59.362)>, <LINESTRING (18.043 59.316, 18.066 59.309)>, <LINESTRING (18.002 59.382, 18.047 59.376)>, <LINESTRING (18.027 59.383, 18.084 59.313)>, <LINESTRING (18.054 59.351, 18.081 59.383)>, <LINESTRING (18.063 59.301, 18.059 59.378)>, <LINESTRING (18.026 59.329, 18.087 59.371)>, <LINESTRING (18.014 59.362, 18.021 59.304)>, <LINESTRING (18.083 59.398, 18.011 59.33)>, <LINESTRING (18.098 59.363, 18.027 59.326)>, <LINESTRING (18.053 59.326, 18.006 59.336)>, <LINESTRING (18.017 59.363, 18.053 59.309)>, <LINESTRING (18.027 59.354, 18.094 59.394)>, <LINESTRING (18.002 59.378, 18.004 59.355)>, <LINESTRING (18.091 59.311, 18.012 59.331)>, <LINESTRING (18.012 59.376, 18.045 59.34)>, <LINESTRING (18.058 59.354, 18.093 59.345)>, <LINESTRING (18.027 59.396, 18.032 59.36)>, <LINESTRING (18.055 59.334, 18.051 59.352)>, <LINESTRING (18.065 59.363, 18.004 59.392)>, <LINESTRING (18.083 59.393, 18.015 59.35)>, <LINESTRING (18.021 59.31, 18.099 59.399)>, <LINESTRING (18.001 59.394, 18.097 59.385)>, <LINESTRING (18.014 59.369, 18 59.321)>, <LINESTRING (18.09 59.307, 18.095 59.393)>, <LINESTRING (18.087 59.33, 18.064 59.312)>, <LINESTRING (18.06 59.371, 18.087 59.382)>, <LINESTRING (18.06 59.307, 18.045 59.338)>, <LINESTRING (18.067 59.358, 18.052 59.388)>, <LINESTRING (18.018 59.335, 18.049 59.387)>, <LINESTRING (18.091 59.362, 18.067 59.381)>, <LINESTRING (18.042 59.305, 18.014 59.379)>, <LINESTRING (18.038 59.387, 18.003 59.33)>, <LINESTRING (18.052 59.397, 18.031 59.308)>, <LINESTRING (18.005 59.397, 18.07 59.34)>, <LINESTRING (18.017 59.375, 18.02 59.317)>, <LINESTRING (18.074 59.313, 18.067 59.369)>, <LINESTRING (18.008 59.376, 18.097 59.335)>, <LINESTRING (18.06 59.302, 18.009 59.398)>, <LINESTRING (18.025 59.302, 18.067 59.364)>, <LINESTRING (18.039 59.332, 18.044 59.382)>, <LINESTRING (18.029 59.349, 18.087 59.313)>, <LINESTRING (18.036 59.377, 18.018 59.386)>, <LINESTRING (18.072 59.368, 18.069 59.392)>, <LINESTRING (18.03 59.345, 18.084 59.349)>, <LINESTRING (18.057 59.327, 18.094 59.361)>, <LINESTRING (18.048 59.4, 18.068 59.376)>, <LINESTRING (18.066 59.343, 18.05 59.317)>, <LINESTRING (18.094 59.345, 18.062 59.35)>, <LINESTRING (18.073 59.316, 18.087 59.34)>, <LINESTRING (18.021 59.379, 18.057 59.315)>, <LINESTRING (18.003 59.369, 18.003 59.337)>, <LINESTRING (18.026 59.322, 18.093 59.307)>, <LINESTRING (18.06 59.308, 18.069 59.303)>, <LINESTRING (18.005 59.368, 18.068 59.314)>, <LINESTRING (18.05 59.365, 18.022 59.396)>, <LINESTRING (18.06 59.327, 18.066 59.355)>, <LINESTRING (18.033 59.395, 18.039 59.397)>, <LINESTRING (18.077 59.315, 18.065 59.343)>, <LINESTRING (18.011 59.343, 18.011 59.331)>, <LINESTRING (18.008 59.394, 18.066 59.351)>, <LINESTRING (18.073 59.342, 18.1 59.344)>, <LINESTRING (18.05 59.364, 18.005 59.311)>, <LINESTRING (18.069 59.34, 18.098 59.364)>, <LINESTRING (18.043 59.327, 18.041 59.322)>, <LINESTRING (18.025 59.398, 18.087 59.362)>, <LINESTRING (18.082 59.341, 18.078 59.365)>, <LINESTRING (18.08 59.389, 18.057 59.315)>, <LINESTRING (18.069 59.323, 18.074 59.306)>, <LINESTRING (18.027 59.321, 18.088 59.378)>, <LINESTRING (18.059 59.303, 18.04 59.346)>, <LINESTRING (18.036 59.365, 18.033 59.306)>, <LINESTRING (18.009 59.337, 18.067 59.399)>, <LINESTRING (18.092 59.386, 18.081 59.306)>, <LINESTRING (18.014 59.347, 18.076 59.37)>, <LINESTRING (18.095 59.397, 18.08 59.398)>, <LINESTRING (18.045 59.319, 18.044 59.324)>, <LINESTRING (18.019 59.387, 18.082 59.314)>, <LINESTRING (18.054 59.378, 18.012 59.312)>, <LINESTRING (18.087 59.377, 18.054 59.33)>, <LINESTRING (18.073 59.384, 18.001 59.31)>, <LINESTRING (18.081 59.376, 18.032 59.369)>, <LINESTRING (18.066 59.363, 18.037 59.306)>, <LINESTRING (18.069 59.313, 18.04 59.351)>, <LINESTRING (18.085 59.303, 18.07 59.4)>, <LINESTRING (18.025 59.392, 18.039 59.381)>, <LINESTRING (18.049 59.362, 18.045 59.362)>, <LINESTRING (18.022 59.38, 18.024 59.331)>, <LINESTRING (18.099 59.348, 18.037 59.362)>, <LINESTRING (18.094 59.312, 18.023 59.353)>, <LINESTRING (18.004 59.313, 18.007 59.343)>, <LINESTRING (18.071 59.369, 18.06 59.313)>, <LINESTRING (18.093 59.343, 18.067 59.389)>, <LINESTRING (18.018 59.32, 18.062 59.345)>, <LINESTRING (18.057 59.349, 18.046 59.319)>, <LINESTRING (18.092 59.306, 18.038 59.337)>, <LINESTRING (18.003 59.358, 18.086 59.341)>, <LINESTRING (18.07 59.327, 18.052 59.383)>, <LINESTRING (18.03 59.38, 18.048 59.373)>, <LINESTRING (18.092 59.331, 18.003 59.377)>, <LINESTRING (18.097 59.346, 18.034 59.301)>, <LINESTRING (18.094 59.301, 18.038 59.342)>, <LINESTRING (18.047 59.307, 18.04 59.348)>, <LINESTRING (18.086 59.339, 18.058 59.302)>, <LINESTRING (18.084 59.348, 18.053 59.326)>, <LINESTRING (18.032 59.36, 18.061 59.376)>, <LINESTRING (18.083 59.329, 18.076 59.314)>, <LINESTRING (18.004 59.369, 18.081 59.354)>, <LINESTRING (18.06 59.386, 18.072 59.322)>, <LINESTRING (18.023 59.378, 18.096 59.301)>, <LINESTRING (18.012 59.304, 18.002 59.324)>, <LINESTRING (18.008 59.348, 18.02 59.398)>, <LINESTRING (18.07 59.31, 18.001 59.38)>, <LINESTRING (18.034 59.324, 18.065 59.396)>, <LINESTRING (18.072 59.399, 18.09 59.349)>, <LINESTRING (18.007 59.314, 18.024 59.311)>, <LINESTRING (18.032 59.35, 18.093 59.355)>, <LINESTRING (18.054 59.362, 18.006 59.345)>, <LINESTRING (18.079 59.37, 18.093 59.384)>, <LINESTRING (18.032 59.356, 18.035 59.31)>, <LINESTRING (18.063 59.301, 18.01 59.349)>, <LINESTRING (18.089 59.333, 18.049 59.315)>, <LINESTRING (18.062 59.352, 18.026 59.332)>, <LINESTRING (18.023 59.309, 18.028 59.374)>, <LINESTRING (18.002 59.335, 18.031 59.348)>, <LINESTRING (18.087 59.303, 18.08 59.338)>, <LINESTRING (18.002 59.308, 18.054 59.339)>, <LINESTRING (18.087 59.34, 18.031 59.346)>, <LINESTRING (18.053 59.313, 18.061 59.379)>, <LINESTRING (18.094 59.357, 18.072 59.389)>, <LINESTRING (18.08 59.369, 18.027 59.396)>, <LINESTRING (18.1 59.38, 18.041 59.379)>, <LINESTRING (18.035 59.32, 18.012 59.332)>, <LINESTRING (18.077 59.317, 18.018 59.369)>, <LINESTRING (18.04 59.31, 18.068 59.344)>, <LINESTRING (18.048 59.364, 18.018 59.325)>, <LINESTRING (18.063 59.371, 18.053 59.384)>, <LINESTRING (18.087 59.303, 18.071 59.304)>, <LINESTRING (18.098 59.394, 18.011 59.39)>, <LINESTRING (18.077 59.305, 18.057 59.346)>, <LINESTRING (18.042 59.354, 18.026 59.364)>, <LINESTRING (18.042 59.371, 18.096 59.366)>, <LINESTRING (18.074 59.387, 18.048 59.39)>, <LINESTRING (18.024 59.371, 18.081 59.364)>, <LINESTRING (18.011 59.38, 18.055 59.361)>, <LINESTRING (18.035 59.334, 18.004 59.307)>, <LINESTRING (18.029 59.381, 18.063 59.352)>, <LINESTRING (18.03 59.308, 18.095 59.315)>, <LINESTRING (18.023 59.389, 18.06 59.374)>, <LINESTRING (18.004 59.355, 18.082 59.351)>, <LINESTRING (18.002 59.382, 18.088 59.368)>, <LINESTRING (18.099 59.345, 18.023 59.304)>, <LINESTRING (18.043 59.364, 18.021 59.308)>, <LINESTRING (18.038 59.353, 18.061 59.372)>, <LINESTRING (18.068 59.373, 18.041 59.307)>, <LINESTRING (18.022 59.308, 18.084 59.307)>, <LINESTRING (18.095 59.306, 18.09 59.301)>, <LINESTRING (18.079 59.325, 18.035 59.396)>, <LINESTRING (18.009 59.316, 18.024 59.374)>, <LINESTRING (18.042 59.387, 18.078 59.335)>, <LINESTRING (18.088 59.322, 18.027 59.33)>, <LINESTRING (18.094 59.398, 18.082 59.335)>, <LINESTRING (18.047 59.334, 18.042 59.377)>, <LINESTRING (18.061 59.318, 18.067 59.366)>, <LINESTRING (18.017 59.379, 18.01 59.319)>, <LINESTRING (18.099 59.366, 18.062 59.317)>, <LINESTRING (18.023 59.35, 18.045 59.31)>, <LINESTRING (18.094 59.356, 18.059 59.366)>, <LINESTRING (18.065 59.372, 18.017 59.376)>, <LINESTRING (18.061 59.323, 18.074 59.327)>, <LINESTRING (18.051 59.4, 18.086 59.302)>, <LINESTRING (18.023 59.397, 18.022 59.308)>, <LINESTRING (18.018 59.365, 18.01 59.397)>, <LINESTRING (18.022 59.32, 18.002 59.33)>, <LINESTRING (18.019 59.368, 18.064 59.377)>, <LINESTRING (18.078 59.307, 18.061 59.362)>, <LINESTRING (18.035 59.303, 18.055 59.338)>, <LINESTRING (18.006 59.326, 18.023 59.321)>, <LINESTRING (18.097 59.346, 18.039 59.312)>, <LINESTRING (18.088 59.387, 18.059 59.362)>, <LINESTRING (18.093 59.373, 18.05 59.377)>, <LINESTRING (18.099 59.374, 18.099 59.364)>, <LINESTRING (18.017 59.343, 18.014 59.353)>, <LINESTRING (18.04 59.335, 18.07 59.304)>, <LINESTRING (18.076 59.337, 18.04 59.397)>, <LINESTRING (18.07 59.399, 18.043 59.38)>, <LINESTRING (18.015 59.304, 18.072 59.329)>, <LINESTRING (18.082 59.387, 18.069 59.398)>, <LINESTRING (18.022 59.358, 18.099 59.36)>, <LINESTRING (18.022 59.344, 18.013 59.358)>, <LINESTRING (18.054 59.373, 18.01 59.375)>, <LINESTRING (18.059 59.349, 18.072 59.381)>, <LINESTRING (18.058 59.387, 18.058 59.366)>]\n"
     ]
    }
   ],
   "source": [
    "# Create Line String-creating fucntion \n",
    "def create_linestring_geometry(A, B):\n",
    "    lns = LineString([A, B])     # Here, you MUST use [] to pass a list of points \n",
    "    return lns\n",
    "\n",
    "# Empty list\n",
    "lines = []\n",
    "\n",
    "#For loop and zip two lists \n",
    "for A, B in zip(origin_points, destination_points):\n",
    "    line = create_linestring_geometry(A, B)\n",
    "    lines.append(line)\n",
    "\n",
    "print(lines)"
   ]
  },
  {
   "cell_type": "markdown",
   "id": "857f8411-2201-4fe2-9198-560800f1ad78",
   "metadata": {},
   "source": [
    "\n",
    "**NOTE: After you have solved this problem, there might be some left-over variables around.<br />We recommend you *restart the kernel and run all cells* from the toolbar or JupyterLab’s menu.***\n"
   ]
  },
  {
   "cell_type": "code",
   "execution_count": 11,
   "id": "af46ba36-e4e8-472d-954d-4e0bfeddb27c",
   "metadata": {},
   "outputs": [],
   "source": [
    "# CODE CELL FOR TESTING YOUR SOLUTION\n",
    "\n",
    "# Test that the list has correct number of LineStrings\n",
    "assert len(lines) == len(data), \"There should be as many lines as there are rows in the original data\""
   ]
  },
  {
   "cell_type": "markdown",
   "id": "2c476228-8afd-41f4-ba52-4944978ffab5",
   "metadata": {},
   "source": [
    "\n",
    "----\n",
    "\n",
    "#### (2)\n",
    "\n",
    "Create a variable called **`total_length`**, and store the total (Euclidian) distance of all the origin-destination LineStrings that we just created into that variable.\n",
    "\n",
    "*Hint*: A simple solution is to start with a `total_length` of `0`, and add each line’s length while iterating over the list of lines.\n"
   ]
  },
  {
   "cell_type": "code",
   "execution_count": 12,
   "id": "56bd488a-5a26-4d6d-ac41-64f53c78ebac",
   "metadata": {},
   "outputs": [],
   "source": [
    "# Total length \n",
    "total_length = 0 "
   ]
  },
  {
   "cell_type": "code",
   "execution_count": 13,
   "id": "8f7b8aa7-ac99-473b-9b73-83ea7bf493c7",
   "metadata": {},
   "outputs": [
    {
     "name": "stdout",
     "output_type": "stream",
     "text": [
      "12.565719181847934\n"
     ]
    }
   ],
   "source": [
    "# Create get length fucntion \n",
    "def get_length(line_input):\n",
    "    lng = line_input.length\n",
    "    return lng\n",
    "\n",
    "# For loop and append\n",
    "for i in lines:\n",
    "    lng = get_length(i)\n",
    "    total_length = lng + total_length\n",
    "  \n",
    "print(total_length)"
   ]
  },
  {
   "cell_type": "markdown",
   "id": "fcfbcb40-431d-4734-9e4e-5d200afd648c",
   "metadata": {},
   "source": [
    "\n",
    "----\n",
    "\n",
    "#### (3)\n",
    "\n",
    "Now, create functions that automate the functionality you implemented for part (1) and part (2) of this problem:\n",
    "\n",
    "- `create_od_lines()`: accepts two `list`s of `shapely.geometry.Point`s and returns a `list` of `shapely.geometry.LineString`s \n",
    "- `calculate_total_distance()`: takes a `list` of `shapely.geometry.LineString` geometries and returns their total length\n",
    "\n",
    "You can copy and paste the codes you have written earlier into the functions. Be sure to add a **docstring** to each function.\n",
    "Below, you can find a code cell for testing your functions (you should get the same result as earler)."
   ]
  },
  {
   "cell_type": "code",
   "execution_count": 16,
   "id": "89f14cc6-f967-4615-ba50-e3b8a49df236",
   "metadata": {},
   "outputs": [],
   "source": [
    "# Create Line String-creating fucntion \n",
    "def create_od_lines(list_a, list_b):\n",
    "    \"\"\"\n",
    "    This function generates a list of Line String from two lists)\n",
    "\n",
    "    Input: list_a, list_b (Two lists of \"shapely.geometry.Point\")\n",
    "\n",
    "    Return: lines (One list of \"shapely.geometry.LineString\")\n",
    "\n",
    "    \"\"\"\n",
    "    lines = []    \n",
    "    for pt_a, pt_b in zip(list_a,list_b): \n",
    "        LinStr = LineString([pt_a, pt_b])     # Here put the POINTS into the fucntion NOT the lists!\n",
    "        lines.append(LinStr)\n",
    "\n",
    "    return lines \n",
    "    \n",
    "# Create a total length calcualtor fucntion \n",
    "def calculate_total_distance(list_c):\n",
    "\n",
    "    \"\"\"\n",
    "    This function calcualtes total distances of all lines from a list)\n",
    "\n",
    "    Input: list_c (One list of \"shapely.geometry.LineString\")\n",
    "\n",
    "    Return: total_lng (Float)\n",
    "\n",
    "    \"\"\"\n",
    "    total_length = 0  # Initial length = 0 \n",
    "    for line in list_c: \n",
    "        length = line.length     \n",
    "        total_length = length + total_length   # accumulative total length\n",
    "    \n",
    "    \n",
    "    return total_length\n"
   ]
  },
  {
   "cell_type": "code",
   "execution_count": 17,
   "id": "3ddc553b-39e8-44c6-9033-a255cbffd7b7",
   "metadata": {},
   "outputs": [
    {
     "name": "stdout",
     "output_type": "stream",
     "text": [
      "Total distance 12.57\n"
     ]
    }
   ],
   "source": [
    "# CODE CELL FOR TESTING YOUR SOLUTION\n",
    "\n",
    "# Create origin-destination lines\n",
    "od_lines = create_od_lines(origin_points, destination_points)\n",
    "total_dist = 0\n",
    "\n",
    "\n",
    "# Calculate the total distance\n",
    "tot_dist = calculate_total_distance(od_lines)\n",
    "\n",
    "print(\"Total distance\", round(tot_dist,2))\n",
    "assert tot_dist == total_length\n"
   ]
  },
  {
   "cell_type": "code",
   "execution_count": 18,
   "id": "69216708-1080-4a3a-b481-16d8fdc98857",
   "metadata": {},
   "outputs": [],
   "source": [
    "\n",
    "## Well done!"
   ]
  },
  {
   "cell_type": "markdown",
   "id": "1c3416dc-46a3-430e-ac98-65a89a77d5be",
   "metadata": {},
   "source": [
    "## Sources\n",
    "\n",
    "This lesson is inspired by the [Programming in Python lessons](http://swcarpentry.github.io/python-novice-inflammation/) from the [Software Carpentry organization](http://software-carpentry.org) and has adapted or reused material from University of Helsinki Automating GIS processis course (https://autogis-site.readthedocs.io/en/latest/course-info/license.html) under a Creative Commons Attribution-ShareAlike 4.0 International licence (https://creativecommons.org/licenses/by-sa/4.0/deed.en).\n"
   ]
  },
  {
   "cell_type": "code",
   "execution_count": null,
   "id": "296011ac-9627-47b8-9b44-3decf2b8c76d",
   "metadata": {},
   "outputs": [],
   "source": []
  }
 ],
 "metadata": {
  "kernelspec": {
   "display_name": "Python 3 (ipykernel)",
   "language": "python",
   "name": "python3"
  },
  "language_info": {
   "codemirror_mode": {
    "name": "ipython",
    "version": 3
   },
   "file_extension": ".py",
   "mimetype": "text/x-python",
   "name": "python",
   "nbconvert_exporter": "python",
   "pygments_lexer": "ipython3",
   "version": "3.12.7"
  }
 },
 "nbformat": 4,
 "nbformat_minor": 5
}
