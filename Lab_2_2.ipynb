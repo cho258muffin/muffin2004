{
 "cells": [
  {
   "cell_type": "markdown",
   "id": "c663b088-ab8e-4c03-ab4d-f57150d6432c",
   "metadata": {},
   "source": [
    "### Assignment 2: Points to map "
   ]
  },
  {
   "cell_type": "markdown",
   "id": "aff4b8f0-72d8-415c-96c7-1d234f6573f0",
   "metadata": {},
   "source": [
    " Plot a map of points, based on a set of longitude and latitude coordinates that are stored in a csv file."
   ]
  },
  {
   "cell_type": "markdown",
   "id": "4adecc44-deb5-45c6-a521-69d597d4fd60",
   "metadata": {},
   "source": [
    "The input data is stored in the CSV spreadsheet ***'sweden_points.csv'*** which you can download from the exercise folder. Add it your working directory and import it.  The coordinates stored there are in WGS84 format (decimal degrees, EPSG:4326) and it contains 2000 locations and 3 columns (latitude, longtitde and ID)."
   ]
  },
  {
   "cell_type": "markdown",
   "id": "6bec09a7-4bd1-4d76-9949-6bae06b23a2b",
   "metadata": {},
   "source": [
    "First import the csv file as a pandas dataframe."
   ]
  },
  {
   "cell_type": "code",
   "execution_count": 1,
   "id": "f7b373dc-d57e-428d-877a-ba82a73db6ff",
   "metadata": {},
   "outputs": [
    {
     "name": "stdout",
     "output_type": "stream",
     "text": [
      "C:\\Users\\Muffin\\Documents\\Courses\\COURSE_20250101_Geospatial_Python\\L2\\Exercise_2\n"
     ]
    },
    {
     "data": {
      "text/plain": [
       "'\\n#alternative method\\n# Pandas to Geo-Pandas\\ngdf = gpd.GeoDataFrame(\\n    df,\\n    geometry=gpd.points_from_xy(df.lon, df.lat),\\n    crs=\"EPSG:4326\"\\n)\\n'"
      ]
     },
     "execution_count": 1,
     "metadata": {},
     "output_type": "execute_result"
    }
   ],
   "source": [
    "# Libraries\n",
    "import pandas as pd\n",
    "import pathlib\n",
    "import geopandas as gpd\n",
    "\n",
    "#location (directory) of the notebook\n",
    "NOTEBOOK_PATH = pathlib.Path().resolve()  # Notebook and shape csv file in the same folder\n",
    "print(NOTEBOOK_PATH)\n",
    "\n",
    "# Read file\n",
    "df = pd.read_csv(\"sweden_points.csv\", names = [\"lat\", \"lon\", \"Trip_ID\"], usecols = [0, 1, 2], skiprows = 1)\n",
    "\n",
    "\"\"\"\n",
    "#alternative method\n",
    "# Pandas to Geo-Pandas\n",
    "gdf = gpd.GeoDataFrame(\n",
    "    df,\n",
    "    geometry=gpd.points_from_xy(df.lon, df.lat),\n",
    "    crs=\"EPSG:4326\"\n",
    ")\n",
    "\"\"\""
   ]
  },
  {
   "cell_type": "markdown",
   "id": "0259941f-52a2-45b1-965e-d46b43f10039",
   "metadata": {},
   "source": [
    "1) Add a geometry column and fill it with geometries.\n",
    "Create an empty column called ***geometry*** where you will store shapely Point objects.\n",
    "Insert Point objects into the column geometry based on the coordinate columns.\n",
    "You want to create a shapely.geometry.Point for each row, based on the columns longitude and latitude"
   ]
  },
  {
   "cell_type": "code",
   "execution_count": 2,
   "id": "9ef89675-5781-4f97-994d-0987665f8f45",
   "metadata": {},
   "outputs": [
    {
     "name": "stdout",
     "output_type": "stream",
     "text": [
      "         lat        lon  Trip_ID                                      Geometry\n",
      "0  59.751286  21.149547        1   POINT (21.14954727276289 59.75128564941775)\n",
      "1  65.258818  21.154727        1   POINT (21.15472668615925 65.25881798502805)\n",
      "2  61.744069  21.413240        1  POINT (21.413240388392545 61.74406920192757)\n",
      "3  58.834489  23.026573        1  POINT (23.026572762151275 58.83448938216252)\n",
      "4  61.308422  17.221379        1   POINT (17.221379411521763 61.3084223226109)\n"
     ]
    }
   ],
   "source": [
    "from shapely.geometry import Point \n",
    "# Create an empty column called 'geometry' \n",
    "df[\"Geometry\"] = \"\" \n",
    "\n",
    "# Iterate over each row in the DataFrame and insert a Point object into the 'geometry' column \n",
    "for i, row in df.iterrows(): \n",
    "    geometry = Point(row[\"lon\"], row[\"lat\"]) \n",
    "    df.at[i, \"Geometry\"] = geometry\n",
    "\n",
    "# Print the first few rows of the DataFrame to verify that the 'geometry' column was added correctly\n",
    "print(df.head())"
   ]
  },
  {
   "cell_type": "markdown",
   "id": "ec9ca829-6032-420a-b397-f337a6610ac3",
   "metadata": {},
   "source": [
    "2) Convert the pandas.DataFrame into a geopandas.GeoDataFrame "
   ]
  },
  {
   "cell_type": "code",
   "execution_count": 3,
   "id": "1a2cdb90-ea25-4060-acdb-93439a7315b3",
   "metadata": {},
   "outputs": [
    {
     "name": "stdout",
     "output_type": "stream",
     "text": [
      "         lat        lon  Trip_ID                                      Geometry\n",
      "0  59.751286  21.149547        1   POINT (21.14954727276289 59.75128564941775)\n",
      "1  65.258818  21.154727        1   POINT (21.15472668615925 65.25881798502805)\n",
      "2  61.744069  21.413240        1  POINT (21.413240388392545 61.74406920192757)\n",
      "3  58.834489  23.026573        1  POINT (23.026572762151275 58.83448938216252)\n",
      "4  61.308422  17.221379        1   POINT (17.221379411521763 61.3084223226109)\n"
     ]
    },
    {
     "data": {
      "text/plain": [
       "<Geographic 2D CRS: EPSG:4326>\n",
       "Name: WGS 84\n",
       "Axis Info [ellipsoidal]:\n",
       "- Lat[north]: Geodetic latitude (degree)\n",
       "- Lon[east]: Geodetic longitude (degree)\n",
       "Area of Use:\n",
       "- name: World.\n",
       "- bounds: (-180.0, -90.0, 180.0, 90.0)\n",
       "Datum: World Geodetic System 1984 ensemble\n",
       "- Ellipsoid: WGS 84\n",
       "- Prime Meridian: Greenwich"
      ]
     },
     "execution_count": 3,
     "metadata": {},
     "output_type": "execute_result"
    }
   ],
   "source": [
    "# Convert the Pandas DataFrame to a GeoPandas DataFrame\n",
    "gdf = gpd.GeoDataFrame(\n",
    "    df,\n",
    "    geometry=gpd.points_from_xy(df.lon, df.lat),\n",
    "    crs=\"EPSG:4326\"\n",
    ")\n",
    "\n",
    "# Print the first few rows of the GeoPandas DataFrame to verify that it was created correctly\n",
    "print(df.head())\n",
    "gdf.crs"
   ]
  },
  {
   "cell_type": "markdown",
   "id": "4a599e6c-fa26-4699-bd68-c291a3f0c8ea",
   "metadata": {},
   "source": [
    " 3) Save the data in Shapefile format as sweden_points.shp inside the data directory"
   ]
  },
  {
   "cell_type": "code",
   "execution_count": 4,
   "id": "1499f83b-99c4-4b40-bd5c-b0e1817b3ffc",
   "metadata": {},
   "outputs": [
    {
     "name": "stdout",
     "output_type": "stream",
     "text": [
      "C:\\Users\\Muffin\\Documents\\Courses\\COURSE_20250101_Geospatial_Python\\L2\\Exercise_2\n"
     ]
    }
   ],
   "source": [
    "# Save shp file\n",
    "import pathlib\n",
    "NOTEBOOK_PATH = pathlib.Path().resolve()\n",
    "print(NOTEBOOK_PATH)\n",
    "gdf.to_file(NOTEBOOK_PATH  / \"gdf_Lab2_2.shp\")"
   ]
  },
  {
   "cell_type": "markdown",
   "id": "ac1f2410-bc15-45c1-8946-47a6b2101556",
   "metadata": {},
   "source": [
    "4. Simply plot your points with geodataframe.plot() https://geopandas.org/en/stable/docs/user_guide/mapping.html "
   ]
  },
  {
   "cell_type": "code",
   "execution_count": 5,
   "id": "b50fb5d0-49ec-4e46-89c0-ffa35e80a3ac",
   "metadata": {},
   "outputs": [
    {
     "data": {
      "text/plain": [
       "<Axes: >"
      ]
     },
     "execution_count": 5,
     "metadata": {},
     "output_type": "execute_result"
    },
    {
     "data": {
      "image/png": "[encoded data removed]",
      "text/plain": [
       "<Figure size 640x480 with 1 Axes>"
      ]
     },
     "metadata": {},
     "output_type": "display_data"
    }
   ],
   "source": [
    "gdf.plot()"
   ]
  },
  {
   "cell_type": "code",
   "execution_count": null,
   "id": "a597e00b-ebb4-4b2b-8408-3ca0982f3e17",
   "metadata": {},
   "outputs": [],
   "source": []
  }
 ],
 "metadata": {
  "kernelspec": {
   "display_name": "Python 3 (ipykernel)",
   "language": "python",
   "name": "python3"
  },
  "language_info": {
   "codemirror_mode": {
    "name": "ipython",
    "version": 3
   },
   "file_extension": ".py",
   "mimetype": "text/x-python",
   "name": "python",
   "nbconvert_exporter": "python",
   "pygments_lexer": "ipython3",
   "version": "3.12.7"
  }
 },
 "nbformat": 4,
 "nbformat_minor": 5
}
